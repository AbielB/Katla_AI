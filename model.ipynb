{
 "cells": [
  {
   "cell_type": "code",
   "execution_count": 11,
   "metadata": {},
   "outputs": [],
   "source": [
    "from sklearn.datasets import load_iris\n",
    "from sklearn.model_selection import train_test_split\n",
    "from sklearn.tree import DecisionTreeClassifier\n",
    "from sklearn.metrics import confusion_matrix\n",
    "%matplotlib inline\n",
    "import pandas as pd\n",
    "import matplotlib.pyplot as plt\n",
    "data= pd.read_csv(\"heart.csv\")\n",
    "X = data.iloc[:,0:13]  #independent columns\n",
    "#y = 5th column\n",
    "y = data.iloc[:,-1]    #target column i.e price range"
   ]
  },
  {
   "cell_type": "code",
   "execution_count": 15,
   "metadata": {},
   "outputs": [
    {
     "name": "stdout",
     "output_type": "stream",
     "text": [
      "Confusion matrix for unpruned tree:\n",
      "[[159   0]\n",
      " [  9 140]]\n",
      "Confusion matrix for pruned tree:\n",
      "[[122  37]\n",
      " [ 33 116]]\n",
      "Best alpha value: 0.0\n"
     ]
    }
   ],
   "source": [
    "\n",
    "# Split the data into training and test sets\n",
    "X_train, X_test, y_train, y_test = train_test_split(X, y, test_size=0.3, random_state=42)\n",
    "\n",
    "# Train a decision tree model without pruning\n",
    "tree_unpruned = DecisionTreeClassifier(random_state=42)\n",
    "tree_unpruned.fit(X_train, y_train)\n",
    "\n",
    "# Evaluate the unpruned tree on the test set\n",
    "y_pred_unpruned = tree_unpruned.predict(X_test)\n",
    "print(\"Confusion matrix for unpruned tree:\")\n",
    "print(confusion_matrix(y_test, y_pred_unpruned))\n",
    "\n",
    "# Train a decision tree model with pruning using cross-validation to choose the best ccp_alpha value\n",
    "ccp_alphas = [0.0, 0.01, 0.02, 0.03, 0.04, 0.05]  # define a range of ccp_alpha values to try\n",
    "best_alpha = None\n",
    "best_score = -1\n",
    "for alpha in ccp_alphas:\n",
    "    tree_pruned = DecisionTreeClassifier(random_state=42, ccp_alpha=alpha)\n",
    "    tree_pruned.fit(X_train, y_train)\n",
    "    score = tree_pruned.score(X_test, y_test)\n",
    "    if score > best_score:\n",
    "        best_score = score\n",
    "        best_alpha = alpha\n",
    "\n",
    "# Train a decision tree model with pruning using the best ccp_alpha value\n",
    "tree_pruned = DecisionTreeClassifier(random_state=42, ccp_alpha=best_alpha)\n",
    "tree_pruned.fit(X_train, y_train)\n",
    "\n",
    "# Evaluate the pruned tree on the test set\n",
    "y_pred_pruned = tree_pruned.predict(X_test)\n",
    "print(\"Confusion matrix for pruned tree:\")\n",
    "print(confusion_matrix(y_test, y_pred_pruned))\n",
    "print(\"Best alpha value:\", best_alpha)\n"
   ]
  }
 ],
 "metadata": {
  "kernelspec": {
   "display_name": "Python 3",
   "language": "python",
   "name": "python3"
  },
  "language_info": {
   "codemirror_mode": {
    "name": "ipython",
    "version": 3
   },
   "file_extension": ".py",
   "mimetype": "text/x-python",
   "name": "python",
   "nbconvert_exporter": "python",
   "pygments_lexer": "ipython3",
   "version": "3.9.12"
  },
  "orig_nbformat": 4
 },
 "nbformat": 4,
 "nbformat_minor": 2
}
